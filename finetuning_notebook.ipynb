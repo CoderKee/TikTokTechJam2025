{
  "cells": [
    {
      "cell_type": "markdown",
      "metadata": {
        "id": "BN8pP7sVtAvJ"
      },
      "source": [
        "# Setup"
      ]
    },
    {
      "cell_type": "code",
      "execution_count": 3,
      "metadata": {
        "colab": {
          "base_uri": "https://localhost:8080/"
        },
        "id": "VK89yXn9r17p",
        "outputId": "1f30cb24-d204-41a0-ac53-60eec52b6a93"
      },
      "outputs": [],
      "source": [
        "import os, re, json, math, random, hashlib, time\n",
        "import numpy as np, pandas as pd\n",
        "from datetime import datetime\n",
        "from sklearn.model_selection import train_test_split\n",
        "from sklearn.metrics import classification_report, f1_score\n",
        "from sklearn.feature_extraction.text import TfidfVectorizer\n",
        "from sklearn.multiclass import OneVsRestClassifier\n",
        "from sklearn.linear_model import LogisticRegression\n",
        "from sklearn.preprocessing import StandardScaler\n",
        "from scipy.sparse import hstack, csr_matrix\n",
        "import spacy\n",
        "\n",
        "nlp = spacy.load(\"en_core_web_sm\")\n",
        "\n",
        "SEED = 42\n",
        "np.random.seed(SEED)\n",
        "random.seed(SEED)\n",
        "\n",
        "DATA_DIR = \"data/\""
      ]
    },
    {
      "cell_type": "markdown",
      "metadata": {
        "id": "HftPmY7IMLX5"
      },
      "source": [
        "\n",
        "# ML Model Training"
      ]
    },
    {
      "cell_type": "code",
      "execution_count": 4,
      "metadata": {},
      "outputs": [
        {
          "name": "stdout",
          "output_type": "stream",
          "text": [
            "WARNING:tensorflow:From c:\\Users\\estelle\\AppData\\Local\\Programs\\Python\\Python311\\Lib\\site-packages\\tf_keras\\src\\losses.py:2976: The name tf.losses.sparse_softmax_cross_entropy is deprecated. Please use tf.compat.v1.losses.sparse_softmax_cross_entropy instead.\n",
            "\n",
            "        user_id               name                                gmap_id  \\\n",
            "0  1.130049e+20              Ben A  0x8626a5074449db49:0x79fa4fa238746342   \n",
            "1  1.088190e+20       michele vess  0x8626baf396726b1f:0xd33145fb706bec2d   \n",
            "2  1.047214e+20  Danyelle Williams  0x8631c517e81069d3:0x720670c8e8f84fc3   \n",
            "3  1.140741e+20           CK Moody  0x86249e700409f4af:0x204bb6ea088067c2   \n",
            "4  1.013455e+20              Ant01   0x889de6c064ee6423:0x5b69e22b1279b2b   \n",
            "\n",
            "   rating                                           text_raw  \\\n",
            "0       1  It's a nice enough McDonalds, but I can't stan...   \n",
            "1       4  Really great street tacos tons of sauces for t...   \n",
            "2       4               Went to visit someone place was nicw   \n",
            "3       5  Great store to visit with a large variety of p...   \n",
            "4       5  Excellent! Very knowledgeable sales manager.  ...   \n",
            "\n",
            "                                          text_clean           time  \\\n",
            "0  nice mcdonalds cant stand self order kiosk obv...  1547600291921   \n",
            "1  great street taco ton sauce topping tuesday ea...  1527700880980   \n",
            "2                              went visit place nicw  1470028212338   \n",
            "3    great store visit large variety party accessory  1551292679315   \n",
            "4  excellent knowledgeable sale manager great exp...  1594926605203   \n",
            "\n",
            "     time_dt_utc  review_year  review_month  ...  len_chars  len_words  \\\n",
            "0  1547600291921         2019             1  ...        358         50   \n",
            "1  1527700880980         2018             5  ...        173         30   \n",
            "2  1470028212338         2016             8  ...         21          4   \n",
            "3  1551292679315         2019             2  ...         47          7   \n",
            "4  1594926605203         2020             7  ...         53          6   \n",
            "\n",
            "   digit_ratio  punct_ratio  exclam_count  rule_advertisement  \\\n",
            "0     0.000000          0.0             0                True   \n",
            "1     0.011561          0.0             0                True   \n",
            "2     0.000000          0.0             0                True   \n",
            "3     0.000000          0.0             0                True   \n",
            "4     0.000000          0.0             0                True   \n",
            "\n",
            "   rule_irrelevant  rule_rant_without_visit     rule_label  \\\n",
            "0            False                    False  Advertisement   \n",
            "1            False                    False  Advertisement   \n",
            "2            False                    False  Advertisement   \n",
            "3            False                    False  Advertisement   \n",
            "4            False                    False  Advertisement   \n",
            "\n",
            "               GPT-label  \n",
            "0  Rant without visiting  \n",
            "1                   None  \n",
            "2                   None  \n",
            "3                   None  \n",
            "4                   None  \n",
            "\n",
            "[5 rows x 29 columns]\n"
          ]
        }
      ],
      "source": [
        "import pandas as pd\n",
        "from datasets import Dataset\n",
        "import transformers\n",
        "from transformers import AutoTokenizer, AutoModelForSequenceClassification, TrainingArguments, Trainer\n",
        "import torch\n",
        "from sklearn.metrics import f1_score, accuracy_score\n",
        "from torch import nn  # <-- Added for class-weighted loss\n",
        "import torch.nn.functional as F # For Focal CE Loss\n",
        "\n",
        "from sklearn.model_selection import train_test_split\n",
        "from sklearn.utils import resample # for over-sampling\n",
        "\n",
        "class FocalLoss(nn.Module):\n",
        "    def __init__(self, alpha=None, gamma=2, reduction='mean'):\n",
        "        super(FocalLoss, self).__init__()\n",
        "        self.alpha=alpha\n",
        "        self.gamma=gamma\n",
        "\n",
        "    def forward(self, inputs, targets):\n",
        "        ce_loss = F.cross_entropy(inputs, targets, reduction=\"none\")\n",
        "        pt = torch.exp(-ce_loss)\n",
        "        loss = (1 - pt) ** self.gamma * ce_loss\n",
        "        if self.alpha is not None: \n",
        "            loss *= self.alpha[targets]\n",
        "        return loss.mean()\n",
        "\n",
        "\n",
        "df_clean = pd.read_json(r'data\\ground_truth-2.json', lines=True)\n",
        "print(df_clean.head())\n",
        "\n",
        "# map labels to numbers\n",
        "label_map = {\"Advertisement\":0, \"Irrelevant Content\":1,\n",
        "             \"Rant without visiting\":2, \"None\":3}\n",
        "\n",
        "inv_label_map = {v:k for k,v in label_map.items()}\n",
        "\n",
        "# Map labels to integers\n",
        "df_clean[\"labels\"] = df_clean[\"GPT-label\"].map(label_map)\n",
        "\n",
        "# Drop rows where mapping failed (NaN)\n",
        "df_clean = df_clean.dropna(subset=[\"labels\"])\n",
        "\n",
        "# Convert labels to integer\n",
        "df_clean[\"labels\"] = df_clean[\"labels\"].astype(int)\n",
        "\n",
        "df_clean = df_clean.copy()\n",
        "df_clean[\"text_clean\"] = df_clean[\"text_clean\"].astype(str).fillna(\"\")\n",
        "df_clean[\"text_for_model\"] = df_clean[\"text_clean\"] #+ \" [SENTIMENT: \" + df_clean[\"sentiment_label\"] + \"]\"\n",
        "df_clean[\"text_for_model\"] = df_clean[\"text_for_model\"].astype(str).fillna(\"\")\n",
        "\n",
        "df_clean[\"text_for_model\"] = (\n",
        "    df_clean[\"text_clean\"].astype(str) +\n",
        "    #\" [SENTIMENT: \" + df_clean[\"sentiment_label\"].astype(str) + \"]\" +\n",
        "    \" [RULE_AD: \" + df_clean[\"rule_advertisement\"].fillna(False).astype(str) + \"]\" +\n",
        "    \" [RULE_IRR: \" + df_clean[\"rule_irrelevant\"].fillna(False).astype(str) + \"]\" +\n",
        "    \" [RULE_RANT: \" + df_clean[\"rule_rant_without_visit\"].fillna(False).astype(str) + \"]\"\n",
        ")\n",
        "\n",
        "train_df, test_df = train_test_split(df_clean, test_size=0.1, stratify=df_clean[\"labels\"])"
      ]
    },
    {
      "cell_type": "code",
      "execution_count": 5,
      "metadata": {
        "id": "IPT0bAfTQD7i"
      },
      "outputs": [
        {
          "name": "stderr",
          "output_type": "stream",
          "text": [
            "c:\\Users\\estelle\\AppData\\Local\\Programs\\Python\\Python311\\Lib\\site-packages\\transformers\\convert_slow_tokenizer.py:559: UserWarning: The sentencepiece tokenizer that you are converting to a fast tokenizer uses the byte fallback option which is not implemented in the fast tokenizers. In practice this means that the fast version of the tokenizer can produce unknown tokens whereas the sentencepiece version would have converted these unknown tokens into a sequence of byte tokens matching the original piece of text.\n",
            "  warnings.warn(\n"
          ]
        }
      ],
      "source": [
        "# Oversampling\n",
        "dfs = [train_df[train_df['labels'] == i] for i in train_df['labels'].unique()]\n",
        "max_size = max(len(df) for df in dfs)\n",
        "\n",
        "dfs_upsampled = [resample(df, replace=True, n_samples=max_size) for df in dfs]\n",
        "train_df = pd.concat(dfs_upsampled).sample(frac=1)\n",
        "\n",
        "# hugging face dataset\n",
        "# dataset = Dataset.from_pandas(df_clean[[\"text_for_model\", \"labels\"]])\n",
        "train_dataset = Dataset.from_pandas(train_df[[\"text_for_model\", \"labels\"]]) # over-sample\n",
        "test_dataset = Dataset.from_pandas(test_df[[\"text_for_model\", \"labels\"]])\n",
        "# dataset = dataset.train_test_split(test_size=0.1) # only if splitting after conversion\n",
        "\n",
        "# Tokenize\n",
        "model_name = \"microsoft/deberta-v3-base\"\n",
        "tokenizer = AutoTokenizer.from_pretrained(model_name)\n",
        "\n",
        "def tokenize(batch):\n",
        "    return tokenizer(batch[\"text_for_model\"], truncation=True, padding=\"max_length\", max_length=256)\n",
        "\n"
      ]
    },
    {
      "cell_type": "code",
      "execution_count": 8,
      "metadata": {},
      "outputs": [
        {
          "name": "stderr",
          "output_type": "stream",
          "text": [
            "Some weights of DebertaV2ForSequenceClassification were not initialized from the model checkpoint at microsoft/deberta-v3-base and are newly initialized: ['classifier.bias', 'classifier.weight', 'pooler.dense.bias', 'pooler.dense.weight']\n",
            "You should probably TRAIN this model on a down-stream task to be able to use it for predictions and inference.\n"
          ]
        },
        {
          "data": {
            "application/vnd.jupyter.widget-view+json": {
              "model_id": "8b1ba18beff34c40879ee9a5058c4723",
              "version_major": 2,
              "version_minor": 0
            },
            "text/plain": [
              "Map:   0%|          | 0/33424 [00:00<?, ? examples/s]"
            ]
          },
          "metadata": {},
          "output_type": "display_data"
        },
        {
          "data": {
            "application/vnd.jupyter.widget-view+json": {
              "model_id": "57e464b412b24c6d97aab957fe482950",
              "version_major": 2,
              "version_minor": 0
            },
            "text/plain": [
              "Map:   0%|          | 0/1058 [00:00<?, ? examples/s]"
            ]
          },
          "metadata": {},
          "output_type": "display_data"
        }
      ],
      "source": [
        "# Compute class weights   <-- NEW SECTION\n",
        "labels = df_clean[\"labels\"]\n",
        "class_counts = labels.value_counts().sort_index()\n",
        "class_weights = 1.0 / class_counts\n",
        "class_weights = torch.tensor(class_weights.values, dtype=torch.float32).to(\"cuda\" if torch.cuda.is_available() else \"cpu\")\n",
        "class_weights /= class_weights.sum()\n",
        "\n",
        "# Load Model\n",
        "model = AutoModelForSequenceClassification.from_pretrained(\n",
        "    model_name,\n",
        "    num_labels=4,\n",
        "    ignore_mismatched_sizes=True,\n",
        "    hidden_dropout_prob = 0.1,\n",
        "    attention_probs_dropout_prob = 0.2\n",
        ")\n",
        "\n",
        "# dataset = dataset.map(tokenize, batched=True)\n",
        "train_dataset = train_dataset.map(tokenize, batched=True)\n",
        "test_dataset = test_dataset.map(tokenize, batched=True)"
      ]
    },
    {
      "cell_type": "code",
      "execution_count": 10,
      "metadata": {},
      "outputs": [
        {
          "name": "stderr",
          "output_type": "stream",
          "text": [
            "C:\\Users\\estelle\\AppData\\Local\\Temp\\ipykernel_27480\\2456575659.py:46: FutureWarning: `tokenizer` is deprecated and will be removed in version 5.0.0 for `WeightedTrainer.__init__`. Use `processing_class` instead.\n",
            "  trainer = WeightedTrainer(\n"
          ]
        }
      ],
      "source": [
        "# Define custom loss function  <-- NEW SECTION\n",
        "#loss_fct = nn.CrossEntropyLoss(weight=class_weights)\n",
        "loss_fct = FocalLoss(gamma=2)\n",
        "\n",
        "def compute_loss(model, inputs, return_outputs=False):\n",
        "    labels = inputs.pop(\"labels\")\n",
        "    outputs = model(**inputs)\n",
        "    loss = loss_fct(outputs.logits, labels)\n",
        "    return (loss, outputs) if return_outputs else loss\n",
        "\n",
        "# Training Setup\n",
        "training_args = TrainingArguments(\n",
        "    output_dir=\"./results\",\n",
        "    eval_strategy=\"steps\",\n",
        "    save_strategy=\"steps\",\n",
        "    eval_steps=25, save_steps=25,\n",
        "    learning_rate=2e-5,\n",
        "    per_device_train_batch_size=32,\n",
        "    per_device_eval_batch_size=32,\n",
        "    num_train_epochs=5,  # <-- Increased for better learning\n",
        "    weight_decay=1e-2,\n",
        "    logging_dir=\"./logs\",\n",
        "    logging_steps=50,\n",
        "    warmup_ratio=0.01\n",
        ")\n",
        "\n",
        "# Metrics\n",
        "def compute_metrics(eval_pred):\n",
        "    logits, labels = eval_pred\n",
        "    preds = torch.argmax(torch.tensor(logits), axis=1)\n",
        "    labels = torch.tensor(labels)\n",
        "    return {\n",
        "        \"accuracy\": accuracy_score(labels, preds),\n",
        "        \"f1_macro\": f1_score(labels, preds, average=\"macro\")\n",
        "    }\n",
        "\n",
        "# Subclass Trainer to use weighted loss  <-- NEW SECTION\n",
        "class WeightedTrainer(Trainer):\n",
        "    def compute_loss(self, model, inputs, return_outputs=False, **kwargs):\n",
        "        labels = inputs.pop(\"labels\")\n",
        "        outputs = model(**inputs)\n",
        "        loss = loss_fct(outputs.logits, labels)  # Focal loss\n",
        "        return (loss, outputs) if return_outputs else loss\n",
        "\n",
        "# Initialize trainer using subclass  <-- NEW SECTION\n",
        "trainer = WeightedTrainer(\n",
        "    model=model,\n",
        "    args=training_args,\n",
        "    train_dataset=train_dataset,\n",
        "    eval_dataset=test_dataset,  # optional, for monitoring metrics\n",
        "    tokenizer=tokenizer,\n",
        "    compute_metrics=compute_metrics\n",
        ")"
      ]
    },
    {
      "cell_type": "code",
      "execution_count": null,
      "metadata": {},
      "outputs": [
        {
          "name": "stderr",
          "output_type": "stream",
          "text": [
            "Some weights of DebertaV2ForSequenceClassification were not initialized from the model checkpoint at microsoft/deberta-v3-base and are newly initialized: ['classifier.bias', 'classifier.weight', 'pooler.dense.bias', 'pooler.dense.weight']\n",
            "You should probably TRAIN this model on a down-stream task to be able to use it for predictions and inference.\n",
            "C:\\Users\\estelle\\AppData\\Local\\Temp\\ipykernel_25656\\3740128401.py:62: FutureWarning: `tokenizer` is deprecated and will be removed in version 5.0.0 for `WeightedTrainer.__init__`. Use `processing_class` instead.\n",
            "  trainer = WeightedTrainer(\n",
            "\u001b[34m\u001b[1mwandb\u001b[0m: \u001b[33mWARNING\u001b[0m The `run_name` is currently set to the same value as `TrainingArguments.output_dir`. If this was not intended, please specify a different run name by setting the `TrainingArguments.run_name` parameter.\n",
            "Failed to detect the name of this notebook, you can set it manually with the WANDB_NOTEBOOK_NAME environment variable to enable code saving.\n",
            "\u001b[34m\u001b[1mwandb\u001b[0m: Currently logged in as: \u001b[33mestelle-sim\u001b[0m (\u001b[33mestelle-sim-htx\u001b[0m) to \u001b[32mhttps://api.wandb.ai\u001b[0m. Use \u001b[1m`wandb login --relogin`\u001b[0m to force relogin\n",
            "\u001b[34m\u001b[1mwandb\u001b[0m: Using wandb-core as the SDK backend.  Please refer to https://wandb.me/wandb-core for more information.\n"
          ]
        },
        {
          "data": {
            "text/html": [
              "Tracking run with wandb version 0.19.6"
            ],
            "text/plain": [
              "<IPython.core.display.HTML object>"
            ]
          },
          "metadata": {},
          "output_type": "display_data"
        },
        {
          "data": {
            "text/html": [
              "Run data is saved locally in <code>c:\\Users\\estelle\\Downloads\\tiktok techjam\\wandb\\run-20250831_021942-aky8dr4b</code>"
            ],
            "text/plain": [
              "<IPython.core.display.HTML object>"
            ]
          },
          "metadata": {},
          "output_type": "display_data"
        },
        {
          "data": {
            "text/html": [
              "Syncing run <strong><a href='https://wandb.ai/estelle-sim-htx/huggingface/runs/aky8dr4b' target=\"_blank\">./results</a></strong> to <a href='https://wandb.ai/estelle-sim-htx/huggingface' target=\"_blank\">Weights & Biases</a> (<a href='https://wandb.me/developer-guide' target=\"_blank\">docs</a>)<br>"
            ],
            "text/plain": [
              "<IPython.core.display.HTML object>"
            ]
          },
          "metadata": {},
          "output_type": "display_data"
        },
        {
          "data": {
            "text/html": [
              " View project at <a href='https://wandb.ai/estelle-sim-htx/huggingface' target=\"_blank\">https://wandb.ai/estelle-sim-htx/huggingface</a>"
            ],
            "text/plain": [
              "<IPython.core.display.HTML object>"
            ]
          },
          "metadata": {},
          "output_type": "display_data"
        },
        {
          "data": {
            "text/html": [
              " View run at <a href='https://wandb.ai/estelle-sim-htx/huggingface/runs/aky8dr4b' target=\"_blank\">https://wandb.ai/estelle-sim-htx/huggingface/runs/aky8dr4b</a>"
            ],
            "text/plain": [
              "<IPython.core.display.HTML object>"
            ]
          },
          "metadata": {},
          "output_type": "display_data"
        },
        {
          "data": {
            "text/html": [
              "\n",
              "    <div>\n",
              "      \n",
              "      <progress value='477' max='5225' style='width:300px; height:20px; vertical-align: middle;'></progress>\n",
              "      [ 477/5225 03:58 < 39:43, 1.99 it/s, Epoch 0.46/5]\n",
              "    </div>\n",
              "    <table border=\"1\" class=\"dataframe\">\n",
              "  <thead>\n",
              " <tr style=\"text-align: left;\">\n",
              "      <th>Step</th>\n",
              "      <th>Training Loss</th>\n",
              "      <th>Validation Loss</th>\n",
              "      <th>Accuracy</th>\n",
              "      <th>F1 Macro</th>\n",
              "    </tr>\n",
              "  </thead>\n",
              "  <tbody>\n",
              "    <tr>\n",
              "      <td>25</td>\n",
              "      <td>No log</td>\n",
              "      <td>0.773462</td>\n",
              "      <td>0.054820</td>\n",
              "      <td>0.025986</td>\n",
              "    </tr>\n",
              "    <tr>\n",
              "      <td>50</td>\n",
              "      <td>0.761300</td>\n",
              "      <td>0.580902</td>\n",
              "      <td>0.753308</td>\n",
              "      <td>0.314117</td>\n",
              "    </tr>\n",
              "    <tr>\n",
              "      <td>75</td>\n",
              "      <td>0.761300</td>\n",
              "      <td>0.493919</td>\n",
              "      <td>0.747637</td>\n",
              "      <td>0.377855</td>\n",
              "    </tr>\n",
              "    <tr>\n",
              "      <td>100</td>\n",
              "      <td>0.564400</td>\n",
              "      <td>0.457019</td>\n",
              "      <td>0.675803</td>\n",
              "      <td>0.377810</td>\n",
              "    </tr>\n",
              "    <tr>\n",
              "      <td>125</td>\n",
              "      <td>0.564400</td>\n",
              "      <td>0.446140</td>\n",
              "      <td>0.613422</td>\n",
              "      <td>0.398451</td>\n",
              "    </tr>\n",
              "    <tr>\n",
              "      <td>150</td>\n",
              "      <td>0.400300</td>\n",
              "      <td>0.385412</td>\n",
              "      <td>0.682420</td>\n",
              "      <td>0.442362</td>\n",
              "    </tr>\n",
              "    <tr>\n",
              "      <td>175</td>\n",
              "      <td>0.400300</td>\n",
              "      <td>0.383598</td>\n",
              "      <td>0.689981</td>\n",
              "      <td>0.456425</td>\n",
              "    </tr>\n",
              "    <tr>\n",
              "      <td>200</td>\n",
              "      <td>0.288400</td>\n",
              "      <td>0.318394</td>\n",
              "      <td>0.721172</td>\n",
              "      <td>0.474440</td>\n",
              "    </tr>\n",
              "    <tr>\n",
              "      <td>225</td>\n",
              "      <td>0.288400</td>\n",
              "      <td>0.196361</td>\n",
              "      <td>0.843100</td>\n",
              "      <td>0.554689</td>\n",
              "    </tr>\n",
              "    <tr>\n",
              "      <td>250</td>\n",
              "      <td>0.213300</td>\n",
              "      <td>0.297090</td>\n",
              "      <td>0.760870</td>\n",
              "      <td>0.492031</td>\n",
              "    </tr>\n",
              "    <tr>\n",
              "      <td>275</td>\n",
              "      <td>0.213300</td>\n",
              "      <td>0.234673</td>\n",
              "      <td>0.814745</td>\n",
              "      <td>0.553419</td>\n",
              "    </tr>\n",
              "    <tr>\n",
              "      <td>300</td>\n",
              "      <td>0.167300</td>\n",
              "      <td>0.283741</td>\n",
              "      <td>0.768431</td>\n",
              "      <td>0.518932</td>\n",
              "    </tr>\n",
              "    <tr>\n",
              "      <td>325</td>\n",
              "      <td>0.167300</td>\n",
              "      <td>0.370334</td>\n",
              "      <td>0.735350</td>\n",
              "      <td>0.475461</td>\n",
              "    </tr>\n",
              "    <tr>\n",
              "      <td>350</td>\n",
              "      <td>0.161800</td>\n",
              "      <td>0.156245</td>\n",
              "      <td>0.861059</td>\n",
              "      <td>0.589333</td>\n",
              "    </tr>\n",
              "    <tr>\n",
              "      <td>375</td>\n",
              "      <td>0.161800</td>\n",
              "      <td>0.206689</td>\n",
              "      <td>0.831758</td>\n",
              "      <td>0.544927</td>\n",
              "    </tr>\n",
              "    <tr>\n",
              "      <td>400</td>\n",
              "      <td>0.122300</td>\n",
              "      <td>0.260152</td>\n",
              "      <td>0.783554</td>\n",
              "      <td>0.529247</td>\n",
              "    </tr>\n",
              "    <tr>\n",
              "      <td>425</td>\n",
              "      <td>0.122300</td>\n",
              "      <td>0.200414</td>\n",
              "      <td>0.817580</td>\n",
              "      <td>0.536313</td>\n",
              "    </tr>\n",
              "    <tr>\n",
              "      <td>450</td>\n",
              "      <td>0.112300</td>\n",
              "      <td>0.193976</td>\n",
              "      <td>0.844991</td>\n",
              "      <td>0.561044</td>\n",
              "    </tr>\n",
              "    <tr>\n",
              "      <td>475</td>\n",
              "      <td>0.112300</td>\n",
              "      <td>0.281443</td>\n",
              "      <td>0.811909</td>\n",
              "      <td>0.540045</td>\n",
              "    </tr>\n",
              "    <tr>\n",
              "      <td>476</td>\n",
              "      <td>0.112300</td>\n",
              "      <td>0.286171</td>\n",
              "      <td>0.809074</td>\n",
              "      <td>0.534764</td>\n",
              "    </tr>\n",
              "  </tbody>\n",
              "</table><p>"
            ],
            "text/plain": [
              "<IPython.core.display.HTML object>"
            ]
          },
          "metadata": {},
          "output_type": "display_data"
        },
        {
          "ename": "KeyboardInterrupt",
          "evalue": "",
          "output_type": "error",
          "traceback": [
            "\u001b[1;31m---------------------------------------------------------------------------\u001b[0m",
            "\u001b[1;31mKeyboardInterrupt\u001b[0m                         Traceback (most recent call last)",
            "Cell \u001b[1;32mIn[5], line 72\u001b[0m\n\u001b[0;32m     62\u001b[0m trainer \u001b[38;5;241m=\u001b[39m WeightedTrainer(\n\u001b[0;32m     63\u001b[0m     model\u001b[38;5;241m=\u001b[39mmodel,\n\u001b[0;32m     64\u001b[0m     args\u001b[38;5;241m=\u001b[39mtraining_args,\n\u001b[1;32m   (...)\u001b[0m\n\u001b[0;32m     68\u001b[0m     compute_metrics\u001b[38;5;241m=\u001b[39mcompute_metrics\n\u001b[0;32m     69\u001b[0m )\n\u001b[0;32m     71\u001b[0m \u001b[38;5;66;03m# Train the model\u001b[39;00m\n\u001b[1;32m---> 72\u001b[0m \u001b[43mtrainer\u001b[49m\u001b[38;5;241;43m.\u001b[39;49m\u001b[43mtrain\u001b[49m\u001b[43m(\u001b[49m\u001b[43m)\u001b[49m\n",
            "File \u001b[1;32mc:\\Users\\estelle\\AppData\\Local\\Programs\\Python\\Python311\\Lib\\site-packages\\transformers\\trainer.py:2245\u001b[0m, in \u001b[0;36mTrainer.train\u001b[1;34m(self, resume_from_checkpoint, trial, ignore_keys_for_eval, **kwargs)\u001b[0m\n\u001b[0;32m   2243\u001b[0m         hf_hub_utils\u001b[38;5;241m.\u001b[39menable_progress_bars()\n\u001b[0;32m   2244\u001b[0m \u001b[38;5;28;01melse\u001b[39;00m:\n\u001b[1;32m-> 2245\u001b[0m     \u001b[38;5;28;01mreturn\u001b[39;00m \u001b[43minner_training_loop\u001b[49m\u001b[43m(\u001b[49m\n\u001b[0;32m   2246\u001b[0m \u001b[43m        \u001b[49m\u001b[43margs\u001b[49m\u001b[38;5;241;43m=\u001b[39;49m\u001b[43margs\u001b[49m\u001b[43m,\u001b[49m\n\u001b[0;32m   2247\u001b[0m \u001b[43m        \u001b[49m\u001b[43mresume_from_checkpoint\u001b[49m\u001b[38;5;241;43m=\u001b[39;49m\u001b[43mresume_from_checkpoint\u001b[49m\u001b[43m,\u001b[49m\n\u001b[0;32m   2248\u001b[0m \u001b[43m        \u001b[49m\u001b[43mtrial\u001b[49m\u001b[38;5;241;43m=\u001b[39;49m\u001b[43mtrial\u001b[49m\u001b[43m,\u001b[49m\n\u001b[0;32m   2249\u001b[0m \u001b[43m        \u001b[49m\u001b[43mignore_keys_for_eval\u001b[49m\u001b[38;5;241;43m=\u001b[39;49m\u001b[43mignore_keys_for_eval\u001b[49m\u001b[43m,\u001b[49m\n\u001b[0;32m   2250\u001b[0m \u001b[43m    \u001b[49m\u001b[43m)\u001b[49m\n",
            "File \u001b[1;32mc:\\Users\\estelle\\AppData\\Local\\Programs\\Python\\Python311\\Lib\\site-packages\\transformers\\trainer.py:2561\u001b[0m, in \u001b[0;36mTrainer._inner_training_loop\u001b[1;34m(self, batch_size, args, resume_from_checkpoint, trial, ignore_keys_for_eval)\u001b[0m\n\u001b[0;32m   2555\u001b[0m \u001b[38;5;28;01mwith\u001b[39;00m context():\n\u001b[0;32m   2556\u001b[0m     tr_loss_step \u001b[38;5;241m=\u001b[39m \u001b[38;5;28mself\u001b[39m\u001b[38;5;241m.\u001b[39mtraining_step(model, inputs, num_items_in_batch)\n\u001b[0;32m   2558\u001b[0m \u001b[38;5;28;01mif\u001b[39;00m (\n\u001b[0;32m   2559\u001b[0m     args\u001b[38;5;241m.\u001b[39mlogging_nan_inf_filter\n\u001b[0;32m   2560\u001b[0m     \u001b[38;5;129;01mand\u001b[39;00m \u001b[38;5;129;01mnot\u001b[39;00m is_torch_xla_available()\n\u001b[1;32m-> 2561\u001b[0m     \u001b[38;5;129;01mand\u001b[39;00m (torch\u001b[38;5;241m.\u001b[39misnan(tr_loss_step) \u001b[38;5;129;01mor\u001b[39;00m \u001b[43mtorch\u001b[49m\u001b[38;5;241;43m.\u001b[39;49m\u001b[43misinf\u001b[49m\u001b[43m(\u001b[49m\u001b[43mtr_loss_step\u001b[49m\u001b[43m)\u001b[49m)\n\u001b[0;32m   2562\u001b[0m ):\n\u001b[0;32m   2563\u001b[0m     \u001b[38;5;66;03m# if loss is nan or inf simply add the average of previous logged losses\u001b[39;00m\n\u001b[0;32m   2564\u001b[0m     tr_loss \u001b[38;5;241m=\u001b[39m tr_loss \u001b[38;5;241m+\u001b[39m tr_loss \u001b[38;5;241m/\u001b[39m (\u001b[38;5;241m1\u001b[39m \u001b[38;5;241m+\u001b[39m \u001b[38;5;28mself\u001b[39m\u001b[38;5;241m.\u001b[39mstate\u001b[38;5;241m.\u001b[39mglobal_step \u001b[38;5;241m-\u001b[39m \u001b[38;5;28mself\u001b[39m\u001b[38;5;241m.\u001b[39m_globalstep_last_logged)\n\u001b[0;32m   2565\u001b[0m \u001b[38;5;28;01melse\u001b[39;00m:\n",
            "\u001b[1;31mKeyboardInterrupt\u001b[0m: "
          ]
        }
      ],
      "source": [
        "# Train the model\n",
        "trainer.train()"
      ]
    },
    {
      "cell_type": "code",
      "execution_count": 11,
      "metadata": {},
      "outputs": [
        {
          "name": "stderr",
          "output_type": "stream",
          "text": [
            "C:\\Users\\estelle\\AppData\\Local\\Temp\\ipykernel_27480\\4292709683.py:2: FutureWarning: `tokenizer` is deprecated and will be removed in version 5.0.0 for `WeightedTrainer.__init__`. Use `processing_class` instead.\n",
            "  trainer = WeightedTrainer(\n"
          ]
        },
        {
          "data": {
            "text/html": [
              "\n",
              "    <div>\n",
              "      \n",
              "      <progress value='34' max='34' style='width:300px; height:20px; vertical-align: middle;'></progress>\n",
              "      [34/34 00:03]\n",
              "    </div>\n",
              "    "
            ],
            "text/plain": [
              "<IPython.core.display.HTML object>"
            ]
          },
          "metadata": {},
          "output_type": "display_data"
        },
        {
          "name": "stderr",
          "output_type": "stream",
          "text": [
            "\u001b[34m\u001b[1mwandb\u001b[0m: \u001b[33mWARNING\u001b[0m The `run_name` is currently set to the same value as `TrainingArguments.output_dir`. If this was not intended, please specify a different run name by setting the `TrainingArguments.run_name` parameter.\n",
            "Failed to detect the name of this notebook, you can set it manually with the WANDB_NOTEBOOK_NAME environment variable to enable code saving.\n",
            "\u001b[34m\u001b[1mwandb\u001b[0m: Currently logged in as: \u001b[33mestelle-sim\u001b[0m (\u001b[33mestelle-sim-htx\u001b[0m) to \u001b[32mhttps://api.wandb.ai\u001b[0m. Use \u001b[1m`wandb login --relogin`\u001b[0m to force relogin\n",
            "\u001b[34m\u001b[1mwandb\u001b[0m: Using wandb-core as the SDK backend.  Please refer to https://wandb.me/wandb-core for more information.\n"
          ]
        },
        {
          "data": {
            "text/html": [
              "Tracking run with wandb version 0.19.6"
            ],
            "text/plain": [
              "<IPython.core.display.HTML object>"
            ]
          },
          "metadata": {},
          "output_type": "display_data"
        },
        {
          "data": {
            "text/html": [
              "Run data is saved locally in <code>c:\\Users\\estelle\\Downloads\\tiktok techjam\\wandb\\run-20250831_025742-wwulhu56</code>"
            ],
            "text/plain": [
              "<IPython.core.display.HTML object>"
            ]
          },
          "metadata": {},
          "output_type": "display_data"
        },
        {
          "data": {
            "text/html": [
              "Syncing run <strong><a href='https://wandb.ai/estelle-sim-htx/huggingface/runs/wwulhu56' target=\"_blank\">./results</a></strong> to <a href='https://wandb.ai/estelle-sim-htx/huggingface' target=\"_blank\">Weights & Biases</a> (<a href='https://wandb.me/developer-guide' target=\"_blank\">docs</a>)<br>"
            ],
            "text/plain": [
              "<IPython.core.display.HTML object>"
            ]
          },
          "metadata": {},
          "output_type": "display_data"
        },
        {
          "data": {
            "text/html": [
              " View project at <a href='https://wandb.ai/estelle-sim-htx/huggingface' target=\"_blank\">https://wandb.ai/estelle-sim-htx/huggingface</a>"
            ],
            "text/plain": [
              "<IPython.core.display.HTML object>"
            ]
          },
          "metadata": {},
          "output_type": "display_data"
        },
        {
          "data": {
            "text/html": [
              " View run at <a href='https://wandb.ai/estelle-sim-htx/huggingface/runs/wwulhu56' target=\"_blank\">https://wandb.ai/estelle-sim-htx/huggingface/runs/wwulhu56</a>"
            ],
            "text/plain": [
              "<IPython.core.display.HTML object>"
            ]
          },
          "metadata": {},
          "output_type": "display_data"
        },
        {
          "data": {
            "text/plain": [
              "{'eval_loss': 0.15624478459358215,\n",
              " 'eval_model_preparation_time': 0.001,\n",
              " 'eval_accuracy': 0.8610586011342155,\n",
              " 'eval_f1_macro': 0.5893328661136195,\n",
              " 'eval_runtime': 3.7836,\n",
              " 'eval_samples_per_second': 279.63,\n",
              " 'eval_steps_per_second': 8.986}"
            ]
          },
          "execution_count": 11,
          "metadata": {},
          "output_type": "execute_result"
        }
      ],
      "source": [
        "model = model.from_pretrained(r\"results\\best\")\n",
        "trainer = WeightedTrainer(\n",
        "    model=model,\n",
        "    args=training_args,\n",
        "    train_dataset=train_dataset,\n",
        "    eval_dataset=test_dataset,  # optional, for monitoring metrics\n",
        "    tokenizer=tokenizer,\n",
        "    compute_metrics=compute_metrics\n",
        ")\n",
        "trainer.evaluate()"
      ]
    },
    {
      "cell_type": "code",
      "execution_count": null,
      "metadata": {},
      "outputs": [
        {
          "name": "stderr",
          "output_type": "stream",
          "text": [
            "[I 2025-08-31 03:03:00,694] A new study created in memory with name: no-name-989bccbf-44ae-42ea-96c4-b2c5983ed097\n",
            "[I 2025-08-31 03:03:00,699] Trial 0 finished with value: 0.5912624805615444 and parameters: {'t0': 0.25960178271694334, 't1': 0.5078362753600324, 't2': 0.5843226584624087}. Best is trial 0 with value: 0.5912624805615444.\n",
            "[I 2025-08-31 03:03:00,702] Trial 1 finished with value: 0.5893328661136195 and parameters: {'t0': 0.07164433886849858, 't1': 0.24845626230199702, 't2': 0.19542456053521193}. Best is trial 0 with value: 0.5912624805615444.\n",
            "[I 2025-08-31 03:03:00,705] Trial 2 finished with value: 0.600787583787466 and parameters: {'t0': 0.06284495528368667, 't1': 0.15048693408747016, 't2': 0.5356792394683623}. Best is trial 2 with value: 0.600787583787466.\n",
            "[I 2025-08-31 03:03:00,709] Trial 3 finished with value: 0.5893328661136195 and parameters: {'t0': 0.04395693575425268, 't1': 0.157123254223161, 't2': 0.2906453789333608}. Best is trial 2 with value: 0.600787583787466.\n",
            "[I 2025-08-31 03:03:00,712] Trial 4 finished with value: 0.5908369035044894 and parameters: {'t0': 0.22342044092690505, 't1': 0.3005623510371919, 't2': 0.4400363047965479}. Best is trial 2 with value: 0.600787583787466.\n",
            "[I 2025-08-31 03:03:00,715] Trial 5 finished with value: 0.5893328661136195 and parameters: {'t0': 0.047699661627111326, 't1': 0.3745303630338385, 't2': 0.39041787115280324}. Best is trial 2 with value: 0.600787583787466.\n",
            "[I 2025-08-31 03:03:00,718] Trial 6 finished with value: 0.5893328661136195 and parameters: {'t0': 0.27674622407587585, 't1': 0.28354912337396115, 't2': 0.0767761022202851}. Best is trial 2 with value: 0.600787583787466.\n",
            "[I 2025-08-31 03:03:00,721] Trial 7 finished with value: 0.5966813150208452 and parameters: {'t0': 0.20806067914790846, 't1': 0.4929122045213944, 't2': 0.492147134052148}. Best is trial 2 with value: 0.600787583787466.\n",
            "[I 2025-08-31 03:03:00,725] Trial 8 finished with value: 0.5893328661136195 and parameters: {'t0': 0.3746918312465978, 't1': 0.25971260039788036, 't2': 0.3981052620244338}. Best is trial 2 with value: 0.600787583787466.\n",
            "[I 2025-08-31 03:03:00,728] Trial 9 finished with value: 0.591712309049299 and parameters: {'t0': 0.38770478265464386, 't1': 0.44824941443950594, 't2': 0.06335873837976394}. Best is trial 2 with value: 0.600787583787466.\n",
            "[I 2025-08-31 03:03:00,733] Trial 10 finished with value: 0.591589115753371 and parameters: {'t0': 0.5410971779441351, 't1': 0.045761404716755646, 't2': 0.577333593598343}. Best is trial 2 with value: 0.600787583787466.\n",
            "[I 2025-08-31 03:03:00,738] Trial 11 finished with value: 0.5976612171633691 and parameters: {'t0': 0.11861707763244733, 't1': 0.5448237634974238, 't2': 0.49491139535484996}. Best is trial 2 with value: 0.600787583787466.\n",
            "[I 2025-08-31 03:03:00,744] Trial 12 finished with value: 0.5958303092442035 and parameters: {'t0': 0.13689292605153625, 't1': 0.11032538909392636, 't2': 0.49488506580744707}. Best is trial 2 with value: 0.600787583787466.\n",
            "[I 2025-08-31 03:03:00,749] Trial 13 finished with value: 0.5944039784535176 and parameters: {'t0': 0.16895139189513508, 't1': 0.5691713930229259, 't2': 0.32418223223057474}. Best is trial 2 with value: 0.600787583787466.\n",
            "[I 2025-08-31 03:03:00,754] Trial 14 finished with value: 0.5971632372851112 and parameters: {'t0': 0.12959338938436984, 't1': 0.17958391378078842, 't2': 0.5189829548581547}. Best is trial 2 with value: 0.600787583787466.\n",
            "[I 2025-08-31 03:03:00,759] Trial 15 finished with value: 0.5893328661136195 and parameters: {'t0': 0.011564270205145555, 't1': 0.015667590840578227, 't2': 0.2940253470455002}. Best is trial 2 with value: 0.600787583787466.\n",
            "[I 2025-08-31 03:03:00,764] Trial 16 finished with value: 0.5896488986237634 and parameters: {'t0': 0.3533794551311155, 't1': 0.40323427710523163, 't2': 0.5971949162121786}. Best is trial 2 with value: 0.600787583787466.\n",
            "[I 2025-08-31 03:03:00,769] Trial 17 finished with value: 0.5944039784535176 and parameters: {'t0': 0.10510618385793456, 't1': 0.5706643540323109, 't2': 0.19081845254049304}. Best is trial 2 with value: 0.600787583787466.\n",
            "[I 2025-08-31 03:03:00,774] Trial 18 finished with value: 0.5920581041438433 and parameters: {'t0': 0.4343085379370437, 't1': 0.3658692494572421, 't2': 0.41976391603567775}. Best is trial 2 with value: 0.600787583787466.\n",
            "[I 2025-08-31 03:03:00,779] Trial 19 finished with value: 0.5964113137040139 and parameters: {'t0': 0.5991322174762801, 't1': 0.19278703737324565, 't2': 0.5336976438028258}. Best is trial 2 with value: 0.600787583787466.\n",
            "[I 2025-08-31 03:03:00,785] Trial 20 finished with value: 0.592278269038599 and parameters: {'t0': 0.18560054267564047, 't1': 0.10758378393809959, 't2': 0.44706173931333726}. Best is trial 2 with value: 0.600787583787466.\n",
            "[I 2025-08-31 03:03:00,790] Trial 21 finished with value: 0.5971632372851112 and parameters: {'t0': 0.10950914150112129, 't1': 0.19316950287233334, 't2': 0.5192555157454782}. Best is trial 2 with value: 0.600787583787466.\n",
            "[I 2025-08-31 03:03:00,795] Trial 22 finished with value: 0.5961748740219182 and parameters: {'t0': 0.1344845945613074, 't1': 0.12307842643486921, 't2': 0.543570639367466}. Best is trial 2 with value: 0.600787583787466.\n",
            "[I 2025-08-31 03:03:00,800] Trial 23 finished with value: 0.5893328661136195 and parameters: {'t0': 0.010358819605068133, 't1': 0.2165441087464141, 't2': 0.34764565805241615}. Best is trial 2 with value: 0.600787583787466.\n",
            "[I 2025-08-31 03:03:00,806] Trial 24 finished with value: 0.592278269038599 and parameters: {'t0': 0.07747616335072187, 't1': 0.3401044098293696, 't2': 0.45248054438402063}. Best is trial 2 with value: 0.600787583787466.\n",
            "[I 2025-08-31 03:03:00,810] Trial 25 finished with value: 0.5958303092442035 and parameters: {'t0': 0.15687065215293827, 't1': 0.060711024898637195, 't2': 0.5032473463582864}. Best is trial 2 with value: 0.600787583787466.\n",
            "[I 2025-08-31 03:03:00,814] Trial 26 finished with value: 0.5893328661136195 and parameters: {'t0': 0.23697311406637953, 't1': 0.16558644872400002, 't2': 0.23096627945482545}. Best is trial 2 with value: 0.600787583787466.\n",
            "[I 2025-08-31 03:03:00,820] Trial 27 finished with value: 0.5846768921884484 and parameters: {'t0': 0.32790394726777033, 't1': 0.5994084563817917, 't2': 0.36634932614657545}. Best is trial 2 with value: 0.600787583787466.\n",
            "[I 2025-08-31 03:03:00,824] Trial 28 finished with value: 0.5939089941891049 and parameters: {'t0': 0.10196152613196115, 't1': 0.2300575196109417, 't2': 0.4709999539032414}. Best is trial 2 with value: 0.600787583787466.\n",
            "[I 2025-08-31 03:03:00,829] Trial 29 finished with value: 0.5936815637529287 and parameters: {'t0': 0.2691400318380117, 't1': 0.4494902444252853, 't2': 0.5625737667164035}. Best is trial 2 with value: 0.600787583787466.\n",
            "[I 2025-08-31 03:03:00,835] Trial 30 finished with value: 0.5931535541645245 and parameters: {'t0': 0.1960469623958864, 't1': 0.07076727314194922, 't2': 0.58993246229247}. Best is trial 2 with value: 0.600787583787466.\n",
            "[I 2025-08-31 03:03:00,840] Trial 31 finished with value: 0.5987986547159558 and parameters: {'t0': 0.10281449073103412, 't1': 0.18322874962195906, 't2': 0.5243863407429592}. Best is trial 2 with value: 0.600787583787466.\n",
            "[I 2025-08-31 03:03:00,845] Trial 32 finished with value: 0.5974080000777893 and parameters: {'t0': 0.05980854439933872, 't1': 0.15561716278546314, 't2': 0.531970535685287}. Best is trial 2 with value: 0.600787583787466.\n",
            "[I 2025-08-31 03:03:00,850] Trial 33 finished with value: 0.5946360624440921 and parameters: {'t0': 0.06105063478946583, 't1': 0.12427938287394391, 't2': 0.5540446016138256}. Best is trial 2 with value: 0.600787583787466.\n",
            "[I 2025-08-31 03:03:00,855] Trial 34 finished with value: 0.5939089941891049 and parameters: {'t0': 0.04195493834869109, 't1': 0.14780174527294793, 't2': 0.47283025393597705}. Best is trial 2 with value: 0.600787583787466.\n",
            "[I 2025-08-31 03:03:00,860] Trial 35 finished with value: 0.5907262635735593 and parameters: {'t0': 0.07196791227667883, 't1': 0.25588224956790506, 't2': 0.419965278045711}. Best is trial 2 with value: 0.600787583787466.\n",
            "[I 2025-08-31 03:03:00,864] Trial 36 finished with value: 0.5979090523533096 and parameters: {'t0': 0.035960159674688075, 't1': 0.2925166276850785, 't2': 0.5480288425401278}. Best is trial 2 with value: 0.600787583787466.\n",
            "[I 2025-08-31 03:03:00,870] Trial 37 finished with value: 0.5893328661136195 and parameters: {'t0': 0.025459253879460034, 't1': 0.3198475614954239, 't2': 0.024250270912619942}. Best is trial 2 with value: 0.600787583787466.\n",
            "[I 2025-08-31 03:03:00,875] Trial 38 finished with value: 0.5896488986237634 and parameters: {'t0': 0.0951441610268896, 't1': 0.28693127149349407, 't2': 0.5994555490746731}. Best is trial 2 with value: 0.600787583787466.\n",
            "[I 2025-08-31 03:03:00,880] Trial 39 finished with value: 0.5994870994981513 and parameters: {'t0': 0.22815957938822984, 't1': 0.413150388495568, 't2': 0.47987925412038474}. Best is trial 2 with value: 0.600787583787466.\n",
            "[I 2025-08-31 03:03:00,885] Trial 40 finished with value: 0.5929678305769622 and parameters: {'t0': 0.23776199966498354, 't1': 0.43307237894938283, 't2': 0.562480407679549}. Best is trial 2 with value: 0.600787583787466.\n",
            "[I 2025-08-31 03:03:00,889] Trial 41 finished with value: 0.6036665277391868 and parameters: {'t0': 0.16271965240300723, 't1': 0.5376890883799577, 't2': 0.48034487395172204}. Best is trial 41 with value: 0.6036665277391868.\n",
            "[I 2025-08-31 03:03:00,896] Trial 42 finished with value: 0.5927918590573793 and parameters: {'t0': 0.16457711657029434, 't1': 0.5026534447834399, 't2': 0.47269825493172846}. Best is trial 41 with value: 0.6036665277391868.\n",
            "[I 2025-08-31 03:03:00,901] Trial 43 finished with value: 0.5883480458568974 and parameters: {'t0': 0.2138117431256793, 't1': 0.4826902639606408, 't2': 0.4209600253986957}. Best is trial 41 with value: 0.6036665277391868.\n",
            "[I 2025-08-31 03:03:00,905] Trial 44 finished with value: 0.5893328661136195 and parameters: {'t0': 0.3028774159878827, 't1': 0.40289404033265563, 't2': 0.2564918747042759}. Best is trial 41 with value: 0.6036665277391868.\n",
            "[I 2025-08-31 03:03:00,911] Trial 45 finished with value: 0.5923434343648996 and parameters: {'t0': 0.16401006056718845, 't1': 0.5250303714394149, 't2': 0.1321541510864352}. Best is trial 41 with value: 0.6036665277391868.\n",
            "[I 2025-08-31 03:03:00,916] Trial 46 finished with value: 0.5893328661136195 and parameters: {'t0': 0.038344637890924016, 't1': 0.3346388249422798, 't2': 0.39243663080183777}. Best is trial 41 with value: 0.6036665277391868.\n",
            "[I 2025-08-31 03:03:00,921] Trial 47 finished with value: 0.5958303092442035 and parameters: {'t0': 0.0763271074624769, 't1': 0.22737637673820976, 't2': 0.5074863512504263}. Best is trial 41 with value: 0.6036665277391868.\n",
            "[I 2025-08-31 03:03:00,926] Trial 48 finished with value: 0.5939089941891049 and parameters: {'t0': 0.14320156458405317, 't1': 0.2790867040101319, 't2': 0.47277283740688425}. Best is trial 41 with value: 0.6036665277391868.\n",
            "[I 2025-08-31 03:03:00,931] Trial 49 finished with value: 0.5948016542273491 and parameters: {'t0': 0.25201109996660187, 't1': 0.36654749923598606, 't2': 0.5708797639542873}. Best is trial 41 with value: 0.6036665277391868.\n",
            "[I 2025-08-31 03:03:00,936] Trial 50 finished with value: 0.5983726591426283 and parameters: {'t0': 0.29883933844448374, 't1': 0.40796365829161185, 't2': 0.5327243764983223}. Best is trial 41 with value: 0.6036665277391868.\n",
            "[I 2025-08-31 03:03:00,941] Trial 51 finished with value: 0.5993753382658098 and parameters: {'t0': 0.312795863895007, 't1': 0.40246125465961574, 't2': 0.5387855831448363}. Best is trial 41 with value: 0.6036665277391868.\n",
            "[I 2025-08-31 03:03:00,946] Trial 52 finished with value: 0.5978127578196746 and parameters: {'t0': 0.4185174744976255, 't1': 0.47133683845829827, 't2': 0.518537515704922}. Best is trial 41 with value: 0.6036665277391868.\n",
            "[I 2025-08-31 03:03:00,951] Trial 53 finished with value: 0.5997610336828141 and parameters: {'t0': 0.29241848020985367, 't1': 0.41058621626392533, 't2': 0.49024742278949557}. Best is trial 41 with value: 0.6036665277391868.\n",
            "[I 2025-08-31 03:03:00,956] Trial 54 finished with value: 0.5925034358711376 and parameters: {'t0': 0.33743838306020013, 't1': 0.4304872799296906, 't2': 0.43822899179638086}. Best is trial 41 with value: 0.6036665277391868.\n",
            "[I 2025-08-31 03:03:00,961] Trial 55 finished with value: 0.6023430650873332 and parameters: {'t0': 0.19232261006783366, 't1': 0.5288606852857684, 't2': 0.4892745429078081}. Best is trial 41 with value: 0.6036665277391868.\n",
            "[I 2025-08-31 03:03:00,966] Trial 56 finished with value: 0.6039383818476746 and parameters: {'t0': 0.27662030543490135, 't1': 0.5325038819524027, 't2': 0.49101086040550257}. Best is trial 56 with value: 0.6039383818476746.\n",
            "[I 2025-08-31 03:03:00,972] Trial 57 finished with value: 0.5944917937100435 and parameters: {'t0': 0.2811958441779046, 't1': 0.530771496392896, 't2': 0.37250283619016966}. Best is trial 56 with value: 0.6039383818476746.\n",
            "[I 2025-08-31 03:03:00,976] Trial 58 finished with value: 0.5995372138865291 and parameters: {'t0': 0.18862037849433255, 't1': 0.5553690334423752, 't2': 0.4821638376507635}. Best is trial 56 with value: 0.6039383818476746.\n",
            "[I 2025-08-31 03:03:00,981] Trial 59 finished with value: 0.5962014229210647 and parameters: {'t0': 0.19318901075644354, 't1': 0.5597795745799067, 't2': 0.45107630409864424}. Best is trial 56 with value: 0.6039383818476746.\n",
            "[I 2025-08-31 03:03:00,987] Trial 60 finished with value: 0.5911467135943498 and parameters: {'t0': 0.3723351836648495, 't1': 0.5991098904295897, 't2': 0.4937260260809653}. Best is trial 56 with value: 0.6039383818476746.\n",
            "[I 2025-08-31 03:03:00,992] Trial 61 finished with value: 0.5986269100066467 and parameters: {'t0': 0.24196590201749368, 't1': 0.5225355964415844, 't2': 0.48880002821610713}. Best is trial 56 with value: 0.6039383818476746.\n",
            "[I 2025-08-31 03:03:00,997] Trial 62 finished with value: 0.5933433142676711 and parameters: {'t0': 0.22016609313937036, 't1': 0.5580119086352399, 't2': 0.43496662581307377}. Best is trial 56 with value: 0.6039383818476746.\n",
            "[I 2025-08-31 03:03:01,007] Trial 63 finished with value: 0.5932253981337862 and parameters: {'t0': 0.2823974118963262, 't1': 0.46808841075391655, 't2': 0.46371880085362926}. Best is trial 56 with value: 0.6039383818476746.\n",
            "[I 2025-08-31 03:03:01,016] Trial 64 finished with value: 0.5976768276917704 and parameters: {'t0': 0.1773153560909088, 't1': 0.5047216369189604, 't2': 0.49225648253038146}. Best is trial 56 with value: 0.6039383818476746.\n",
            "[I 2025-08-31 03:03:01,023] Trial 65 finished with value: 0.5922507447635118 and parameters: {'t0': 0.2619295714807024, 't1': 0.5805284118901602, 't2': 0.40912566706179115}. Best is trial 56 with value: 0.6039383818476746.\n",
            "[I 2025-08-31 03:03:01,029] Trial 66 finished with value: 0.5989949018426544 and parameters: {'t0': 0.20502263898334883, 't1': 0.5429856713353638, 't2': 0.5141642413152472}. Best is trial 56 with value: 0.6039383818476746.\n",
            "[I 2025-08-31 03:03:01,036] Trial 67 finished with value: 0.5892610154743958 and parameters: {'t0': 0.22613753661807923, 't1': 0.4881050412477179, 't2': 0.5752642633998936}. Best is trial 56 with value: 0.6039383818476746.\n",
            "[I 2025-08-31 03:03:01,040] Trial 68 finished with value: 0.5911792774602351 and parameters: {'t0': 0.1260744767079596, 't1': 0.5416893993666947, 't2': 0.3218663108895249}. Best is trial 56 with value: 0.6039383818476746.\n",
            "[I 2025-08-31 03:03:01,046] Trial 69 finished with value: 0.5971310887661557 and parameters: {'t0': 0.1488409944761532, 't1': 0.5847976375186779, 't2': 0.48516964297602627}. Best is trial 56 with value: 0.6039383818476746.\n",
            "[I 2025-08-31 03:03:01,051] Trial 70 finished with value: 0.5915948519063855 and parameters: {'t0': 0.17890382974614727, 't1': 0.45802796746688834, 't2': 0.4542145833576387}. Best is trial 56 with value: 0.6039383818476746.\n",
            "[I 2025-08-31 03:03:01,056] Trial 71 finished with value: 0.5961748740219182 and parameters: {'t0': 0.3077303321726457, 't1': 0.3855992669464727, 't2': 0.544083507013026}. Best is trial 56 with value: 0.6039383818476746.\n",
            "[I 2025-08-31 03:03:01,060] Trial 72 finished with value: 0.5974956522732744 and parameters: {'t0': 0.3243156716994834, 't1': 0.42620234620031744, 't2': 0.5062827368591095}. Best is trial 56 with value: 0.6039383818476746.\n",
            "[I 2025-08-31 03:03:01,066] Trial 73 finished with value: 0.59908397970689 and parameters: {'t0': 0.35436162578175673, 't1': 0.39310381210703027, 't2': 0.5331746858121289}. Best is trial 56 with value: 0.6039383818476746.\n",
            "[I 2025-08-31 03:03:01,070] Trial 74 finished with value: 0.5985217422874815 and parameters: {'t0': 0.2555956043119075, 't1': 0.34605727011981985, 't2': 0.4805657010434328}. Best is trial 56 with value: 0.6039383818476746.\n",
            "[I 2025-08-31 03:03:01,075] Trial 75 finished with value: 0.590334585925807 and parameters: {'t0': 0.2842079072873304, 't1': 0.5117915443498382, 't2': 0.437413517965905}. Best is trial 56 with value: 0.6039383818476746.\n",
            "[I 2025-08-31 03:03:01,080] Trial 76 finished with value: 0.6018053547557733 and parameters: {'t0': 0.2049885842231978, 't1': 0.5546208408976712, 't2': 0.5511229548658418}. Best is trial 56 with value: 0.6039383818476746.\n",
            "[I 2025-08-31 03:03:01,086] Trial 77 finished with value: 0.5952674733152512 and parameters: {'t0': 0.200416550679377, 't1': 0.5560504415352334, 't2': 0.582629406880712}. Best is trial 56 with value: 0.6039383818476746.\n",
            "[I 2025-08-31 03:03:01,092] Trial 78 finished with value: 0.5924603389401722 and parameters: {'t0': 0.2272790381152156, 't1': 0.5771674133248593, 't2': 0.45949513157908506}. Best is trial 56 with value: 0.6039383818476746.\n",
            "[I 2025-08-31 03:03:01,097] Trial 79 finished with value: 0.6024842697633356 and parameters: {'t0': 0.4906532853427342, 't1': 0.514948676359176, 't2': 0.5039441729660897}. Best is trial 56 with value: 0.6039383818476746.\n",
            "[I 2025-08-31 03:03:01,102] Trial 80 finished with value: 0.5870083794201442 and parameters: {'t0': 0.5677855555289917, 't1': 0.5155131752312271, 't2': 0.5626933393800966}. Best is trial 56 with value: 0.6039383818476746.\n",
            "[I 2025-08-31 03:03:01,107] Trial 81 finished with value: 0.6009732928558038 and parameters: {'t0': 0.1904387655751176, 't1': 0.5385637299207342, 't2': 0.5020037468144577}. Best is trial 56 with value: 0.6039383818476746.\n",
            "[I 2025-08-31 03:03:01,113] Trial 82 finished with value: 0.6023062014300002 and parameters: {'t0': 0.4363403936400579, 't1': 0.5330689563600428, 't2': 0.5044395932931695}. Best is trial 56 with value: 0.6039383818476746.\n",
            "[I 2025-08-31 03:03:01,118] Trial 83 finished with value: 0.6039650930973981 and parameters: {'t0': 0.46744239176048724, 't1': 0.5348222835653267, 't2': 0.505861049469856}. Best is trial 83 with value: 0.6039650930973981.\n",
            "[I 2025-08-31 03:03:01,124] Trial 84 finished with value: 0.6056778383097183 and parameters: {'t0': 0.4926889814698569, 't1': 0.5346890985791777, 't2': 0.5057167849233184}. Best is trial 84 with value: 0.6056778383097183.\n",
            "[I 2025-08-31 03:03:01,129] Trial 85 finished with value: 0.6056778383097183 and parameters: {'t0': 0.4927636217843005, 't1': 0.5357803372621973, 't2': 0.5076786286376861}. Best is trial 84 with value: 0.6056778383097183.\n",
            "[I 2025-08-31 03:03:01,134] Trial 86 finished with value: 0.5972286912676377 and parameters: {'t0': 0.4941910993689657, 't1': 0.49402576202561604, 't2': 0.5532859655354355}. Best is trial 84 with value: 0.6056778383097183.\n",
            "[I 2025-08-31 03:03:01,139] Trial 87 finished with value: 0.6086450758042647 and parameters: {'t0': 0.49047402094143533, 't1': 0.5318921669656161, 't2': 0.523641555719412}. Best is trial 87 with value: 0.6086450758042647.\n",
            "[I 2025-08-31 03:03:01,144] Trial 88 finished with value: 0.5980805873660193 and parameters: {'t0': 0.4790570235170629, 't1': 0.47903014142325123, 't2': 0.5212019701794305}. Best is trial 87 with value: 0.6086450758042647.\n",
            "[I 2025-08-31 03:03:01,149] Trial 89 finished with value: 0.6086450758042647 and parameters: {'t0': 0.4915462581933426, 't1': 0.5307528080953563, 't2': 0.5219590447648408}. Best is trial 87 with value: 0.6086450758042647.\n",
            "[I 2025-08-31 03:03:01,154] Trial 90 finished with value: 0.6023866131913943 and parameters: {'t0': 0.5007460333671845, 't1': 0.5034186415623587, 't2': 0.5245437230274993}. Best is trial 87 with value: 0.6086450758042647.\n",
            "[I 2025-08-31 03:03:01,159] Trial 91 finished with value: 0.6013916196399023 and parameters: {'t0': 0.5014417847856542, 't1': 0.4967433773967448, 't2': 0.5276822621043286}. Best is trial 87 with value: 0.6086450758042647.\n",
            "[I 2025-08-31 03:03:01,166] Trial 92 finished with value: 0.6042542974267113 and parameters: {'t0': 0.5265223021074225, 't1': 0.5185369549703139, 't2': 0.5067178452106249}. Best is trial 87 with value: 0.6086450758042647.\n",
            "[I 2025-08-31 03:03:01,171] Trial 93 finished with value: 0.6038179646440516 and parameters: {'t0': 0.5155000202797658, 't1': 0.5153912068636883, 't2': 0.5130487385287975}. Best is trial 87 with value: 0.6086450758042647.\n",
            "[I 2025-08-31 03:03:01,176] Trial 94 finished with value: 0.6055879821059966 and parameters: {'t0': 0.525117898831008, 't1': 0.5189974084787092, 't2': 0.5118260736169171}. Best is trial 87 with value: 0.6086450758042647.\n",
            "[I 2025-08-31 03:03:01,181] Trial 95 finished with value: 0.6076793472590271 and parameters: {'t0': 0.5262265833906123, 't1': 0.5694432384406213, 't2': 0.5411386301228315}. Best is trial 87 with value: 0.6086450758042647.\n",
            "[I 2025-08-31 03:03:01,186] Trial 96 finished with value: 0.6062991921785247 and parameters: {'t0': 0.5236333057913204, 't1': 0.5688581922091464, 't2': 0.568441439623446}. Best is trial 87 with value: 0.6086450758042647.\n",
            "[I 2025-08-31 03:03:01,192] Trial 97 finished with value: 0.6062056023898129 and parameters: {'t0': 0.533368849570286, 't1': 0.5688362683933947, 't2': 0.5883540539497915}. Best is trial 87 with value: 0.6086450758042647.\n",
            "[I 2025-08-31 03:03:01,197] Trial 98 finished with value: 0.5923550211852506 and parameters: {'t0': 0.5403142370814389, 't1': 0.5957092527981407, 't2': 0.592367151870526}. Best is trial 87 with value: 0.6086450758042647.\n",
            "[I 2025-08-31 03:03:01,202] Trial 99 finished with value: 0.602821486706457 and parameters: {'t0': 0.4632867760727511, 't1': 0.5672683463352021, 't2': 0.5710740876056553}. Best is trial 87 with value: 0.6086450758042647.\n",
            "[I 2025-08-31 03:03:01,207] Trial 100 finished with value: 0.5956598279769011 and parameters: {'t0': 0.5301920128523523, 't1': 0.5859567860111454, 't2': 0.5624294215855475}. Best is trial 87 with value: 0.6086450758042647.\n",
            "[I 2025-08-31 03:03:01,213] Trial 101 finished with value: 0.5966767309581605 and parameters: {'t0': 0.5756297824735779, 't1': 0.5732788534656621, 't2': 0.5442254064497383}. Best is trial 87 with value: 0.6086450758042647.\n",
            "[I 2025-08-31 03:03:01,218] Trial 102 finished with value: 0.5990420279900404 and parameters: {'t0': 0.46194221502716937, 't1': 0.5462241357206266, 't2': 0.585207299265717}. Best is trial 87 with value: 0.6086450758042647.\n",
            "[I 2025-08-31 03:03:01,224] Trial 103 finished with value: 0.606397532850473 and parameters: {'t0': 0.5612656978477342, 't1': 0.5659073881109344, 't2': 0.5389110775072989}. Best is trial 87 with value: 0.6086450758042647.\n",
            "[I 2025-08-31 03:03:01,229] Trial 104 finished with value: 0.5983254452490924 and parameters: {'t0': 0.5612870479859796, 't1': 0.5692835330582394, 't2': 0.5595091393430353}. Best is trial 87 with value: 0.6086450758042647.\n",
            "[I 2025-08-31 03:03:01,235] Trial 105 finished with value: 0.61125204746448 and parameters: {'t0': 0.5179237587041731, 't1': 0.5483252543147938, 't2': 0.5365269065377177}. Best is trial 105 with value: 0.61125204746448.\n",
            "[I 2025-08-31 03:03:01,240] Trial 106 finished with value: 0.600064820374986 and parameters: {'t0': 0.5153476276868088, 't1': 0.5494140962142304, 't2': 0.5799775530371192}. Best is trial 105 with value: 0.61125204746448.\n",
            "[I 2025-08-31 03:03:01,244] Trial 107 finished with value: 0.6028546609361844 and parameters: {'t0': 0.5542569500128688, 't1': 0.5850512865043068, 't2': 0.5382043229232054}. Best is trial 105 with value: 0.61125204746448.\n",
            "[I 2025-08-31 03:03:01,250] Trial 108 finished with value: 0.5902693235689187 and parameters: {'t0': 0.5969183698160586, 't1': 0.5747066997053529, 't2': 0.5949253834521397}. Best is trial 105 with value: 0.61125204746448.\n",
            "[I 2025-08-31 03:03:01,257] Trial 109 finished with value: 0.6008808177468464 and parameters: {'t0': 0.5230258300082951, 't1': 0.5630471717955713, 't2': 0.1655142317635192}. Best is trial 105 with value: 0.61125204746448.\n",
            "[I 2025-08-31 03:03:01,262] Trial 110 finished with value: 0.5980084869822133 and parameters: {'t0': 0.5502673768288961, 't1': 0.5221851017417938, 't2': 0.5688676694546989}. Best is trial 105 with value: 0.61125204746448.\n",
            "[I 2025-08-31 03:03:01,267] Trial 111 finished with value: 0.6031983186381386 and parameters: {'t0': 0.5379672067231591, 't1': 0.5902633015868533, 't2': 0.546416590521562}. Best is trial 105 with value: 0.61125204746448.\n",
            "[I 2025-08-31 03:03:01,273] Trial 112 finished with value: 0.6047755892112652 and parameters: {'t0': 0.4752351401429014, 't1': 0.5465114420298042, 't2': 0.5191016047041683}. Best is trial 105 with value: 0.61125204746448.\n",
            "[I 2025-08-31 03:03:01,278] Trial 113 finished with value: 0.6068951845813638 and parameters: {'t0': 0.44418927382057005, 't1': 0.5511323251312032, 't2': 0.5286073118182013}. Best is trial 105 with value: 0.61125204746448.\n",
            "[I 2025-08-31 03:03:01,284] Trial 114 finished with value: 0.6036206865303755 and parameters: {'t0': 0.44632412619008294, 't1': 0.5458522491000191, 't2': 0.5303182856227838}. Best is trial 105 with value: 0.61125204746448.\n",
            "[I 2025-08-31 03:03:01,289] Trial 115 finished with value: 0.6022082122425982 and parameters: {'t0': 0.41369203961297807, 't1': 0.5683551165135197, 't2': 0.5196513385483792}. Best is trial 105 with value: 0.61125204746448.\n",
            "[I 2025-08-31 03:03:01,294] Trial 116 finished with value: 0.6088311332775236 and parameters: {'t0': 0.48613079203022624, 't1': 0.5519253240412777, 't2': 0.5531283195592149}. Best is trial 105 with value: 0.61125204746448.\n",
            "[I 2025-08-31 03:03:01,300] Trial 117 finished with value: 0.5979158084579032 and parameters: {'t0': 0.5092847282039452, 't1': 0.5995036272561282, 't2': 0.5504120377582102}. Best is trial 105 with value: 0.61125204746448.\n",
            "[I 2025-08-31 03:03:01,306] Trial 118 finished with value: 0.600516896165028 and parameters: {'t0': 0.5836371564287278, 't1': 0.5598049481572631, 't2': 0.5376411298054031}. Best is trial 105 with value: 0.61125204746448.\n",
            "[I 2025-08-31 03:03:01,311] Trial 119 finished with value: 0.6012112663186833 and parameters: {'t0': 0.48391248490911504, 't1': 0.5284559613920976, 't2': 0.5750661890983607}. Best is trial 105 with value: 0.61125204746448.\n",
            "[I 2025-08-31 03:03:01,317] Trial 120 finished with value: 0.5957851048650801 and parameters: {'t0': 0.4476235193081196, 't1': 0.5788647133727289, 't2': 0.5601814422064199}. Best is trial 105 with value: 0.61125204746448.\n",
            "[I 2025-08-31 03:03:01,323] Trial 121 finished with value: 0.6075001991117076 and parameters: {'t0': 0.4779564800033378, 't1': 0.5499498309198302, 't2': 0.5234877398668571}. Best is trial 105 with value: 0.61125204746448.\n",
            "[I 2025-08-31 03:03:01,328] Trial 122 finished with value: 0.5982385805040383 and parameters: {'t0': 0.5043845268986759, 't1': 0.5608507864010115, 't2': 0.5988976007304387}. Best is trial 105 with value: 0.61125204746448.\n",
            "[I 2025-08-31 03:03:01,334] Trial 123 finished with value: 0.606108230607716 and parameters: {'t0': 0.48851129806866594, 't1': 0.548770627426598, 't2': 0.5324140938015582}. Best is trial 105 with value: 0.61125204746448.\n",
            "[I 2025-08-31 03:03:01,338] Trial 124 finished with value: 0.6073175159747554 and parameters: {'t0': 0.48808286602727713, 't1': 0.5393040323551453, 't2': 0.535321489106223}. Best is trial 105 with value: 0.61125204746448.\n",
            "[I 2025-08-31 03:03:01,344] Trial 125 finished with value: 0.5958041242802325 and parameters: {'t0': 0.5427782842617875, 't1': 0.5514951931289436, 't2': 0.2699255050129006}. Best is trial 105 with value: 0.61125204746448.\n",
            "[I 2025-08-31 03:03:01,349] Trial 126 finished with value: 0.6105434367534235 and parameters: {'t0': 0.45397889816091697, 't1': 0.5704974006184909, 't2': 0.5366452916932939}. Best is trial 105 with value: 0.61125204746448.\n",
            "[I 2025-08-31 03:03:01,355] Trial 127 finished with value: 0.6008663210630318 and parameters: {'t0': 0.4131920389981282, 't1': 0.5847707286417577, 't2': 0.538575101773296}. Best is trial 105 with value: 0.61125204746448.\n",
            "[I 2025-08-31 03:03:01,361] Trial 128 finished with value: 0.6076429923249469 and parameters: {'t0': 0.46990927959785256, 't1': 0.5696499815681005, 't2': 0.549840196226789}. Best is trial 105 with value: 0.61125204746448.\n",
            "[I 2025-08-31 03:03:01,366] Trial 129 finished with value: 0.6026601830663616 and parameters: {'t0': 0.45239747530464824, 't1': 0.5729078312578448, 't2': 0.5532132047203095}. Best is trial 105 with value: 0.61125204746448.\n",
            "[I 2025-08-31 03:03:01,372] Trial 130 finished with value: 0.6045319372183169 and parameters: {'t0': 0.47352249201455515, 't1': 0.564802327706558, 't2': 0.5718609853651229}. Best is trial 105 with value: 0.61125204746448.\n",
            "[I 2025-08-31 03:03:01,377] Trial 131 finished with value: 0.6025063994768569 and parameters: {'t0': 0.4851564915536754, 't1': 0.5894220525904771, 't2': 0.528272218034114}. Best is trial 105 with value: 0.61125204746448.\n",
            "[I 2025-08-31 03:03:01,382] Trial 132 finished with value: 0.6005821459727467 and parameters: {'t0': 0.45620044652596775, 't1': 0.5518552304289258, 't2': 0.5821963730858892}. Best is trial 105 with value: 0.61125204746448.\n",
            "[I 2025-08-31 03:03:01,389] Trial 133 finished with value: 0.6010674384789929 and parameters: {'t0': 0.4281205689742949, 't1': 0.5445806758485112, 't2': 0.5531308353864987}. Best is trial 105 with value: 0.61125204746448.\n",
            "[I 2025-08-31 03:03:01,394] Trial 134 finished with value: 0.6047310721368941 and parameters: {'t0': 0.5168034325406367, 't1': 0.5049696109711284, 't2': 0.5376406495868468}. Best is trial 105 with value: 0.61125204746448.\n",
            "[I 2025-08-31 03:03:01,399] Trial 135 finished with value: 0.6010385836804489 and parameters: {'t0': 0.5060914434129151, 't1': 0.5731825154782766, 't2': 0.566736564713533}. Best is trial 105 with value: 0.61125204746448.\n",
            "[I 2025-08-31 03:03:01,404] Trial 136 finished with value: 0.6074069470092014 and parameters: {'t0': 0.4754829412175571, 't1': 0.5565661221026634, 't2': 0.5282520266955186}. Best is trial 105 with value: 0.61125204746448.\n",
            "[I 2025-08-31 03:03:01,410] Trial 137 finished with value: 0.5961846051727695 and parameters: {'t0': 0.4693607804539933, 't1': 0.5993691854179454, 't2': 0.5449620141096349}. Best is trial 105 with value: 0.61125204746448.\n",
            "[I 2025-08-31 03:03:01,414] Trial 138 finished with value: 0.5981812845060406 and parameters: {'t0': 0.397365103424661, 't1': 0.5661109105067645, 't2': 0.5869533304830326}. Best is trial 105 with value: 0.61125204746448.\n",
            "[I 2025-08-31 03:03:01,421] Trial 139 finished with value: 0.605273780168605 and parameters: {'t0': 0.4336368282214231, 't1': 0.5340682897269805, 't2': 0.5233435689272175}. Best is trial 105 with value: 0.61125204746448.\n",
            "[I 2025-08-31 03:03:01,427] Trial 140 finished with value: 0.5988921703564872 and parameters: {'t0': 0.5337443595781757, 't1': 0.5818541904640973, 't2': 0.09811519875006161}. Best is trial 105 with value: 0.61125204746448.\n",
            "[I 2025-08-31 03:03:01,433] Trial 141 finished with value: 0.6060146028809303 and parameters: {'t0': 0.4857228723357457, 't1': 0.5552709585970593, 't2': 0.5323684362290186}. Best is trial 105 with value: 0.61125204746448.\n",
            "[I 2025-08-31 03:03:01,437] Trial 142 finished with value: 0.6011649407728519 and parameters: {'t0': 0.5008367781059327, 't1': 0.541908334525155, 't2': 0.5587467815778567}. Best is trial 105 with value: 0.61125204746448.\n",
            "[I 2025-08-31 03:03:01,443] Trial 143 finished with value: 0.6047754720254973 and parameters: {'t0': 0.4775531830928156, 't1': 0.5578174765807746, 't2': 0.5453899966181361}. Best is trial 105 with value: 0.61125204746448.\n",
            "[I 2025-08-31 03:03:01,448] Trial 144 finished with value: 0.6041551927252812 and parameters: {'t0': 0.5472274405188524, 't1': 0.5276577475589397, 't2': 0.5286516883286173}. Best is trial 105 with value: 0.61125204746448.\n",
            "[I 2025-08-31 03:03:01,454] Trial 145 finished with value: 0.6020337544717951 and parameters: {'t0': 0.5135904354131684, 't1': 0.5783237792586085, 't2': 0.4965738022735188}. Best is trial 105 with value: 0.61125204746448.\n",
            "[I 2025-08-31 03:03:01,460] Trial 146 finished with value: 0.6017812886565771 and parameters: {'t0': 0.4610362354810587, 't1': 0.5496735161494588, 't2': 0.5689382188547217}. Best is trial 105 with value: 0.61125204746448.\n",
            "[I 2025-08-31 03:03:01,465] Trial 147 finished with value: 0.5975176424181097 and parameters: {'t0': 0.44237438438534316, 't1': 0.5087955998289667, 't2': 0.5545941882885047}. Best is trial 105 with value: 0.61125204746448.\n",
            "[I 2025-08-31 03:03:01,471] Trial 148 finished with value: 0.6032216407994174 and parameters: {'t0': 0.5583674318581371, 't1': 0.5271718873427796, 't2': 0.5185109091032224}. Best is trial 105 with value: 0.61125204746448.\n",
            "[I 2025-08-31 03:03:01,476] Trial 149 finished with value: 0.6059116046049627 and parameters: {'t0': 0.49123712648940043, 't1': 0.5633568652939493, 't2': 0.5423813293416111}. Best is trial 105 with value: 0.61125204746448.\n",
            "[I 2025-08-31 03:03:01,482] Trial 150 finished with value: 0.5968345902749835 and parameters: {'t0': 0.5250349370383796, 't1': 0.5905678870046921, 't2': 0.5769608988308373}. Best is trial 105 with value: 0.61125204746448.\n",
            "[I 2025-08-31 03:03:01,488] Trial 151 finished with value: 0.6074069470092014 and parameters: {'t0': 0.487136702804793, 't1': 0.5555943959919377, 't2': 0.5306289036298706}. Best is trial 105 with value: 0.61125204746448.\n",
            "[I 2025-08-31 03:03:01,493] Trial 152 finished with value: 0.6036996883828327 and parameters: {'t0': 0.47843815252385685, 't1': 0.540699613272735, 't2': 0.5166843039387975}. Best is trial 105 with value: 0.61125204746448.\n",
            "[I 2025-08-31 03:03:01,499] Trial 153 finished with value: 0.6076429923249469 and parameters: {'t0': 0.5011041401219135, 't1': 0.5737374552443969, 't2': 0.5523915279658865}. Best is trial 105 with value: 0.61125204746448.\n",
            "[I 2025-08-31 03:03:01,504] Trial 154 finished with value: 0.6010385836804489 and parameters: {'t0': 0.5000725794219967, 't1': 0.572034875758607, 't2': 0.5603064169990057}. Best is trial 105 with value: 0.61125204746448.\n",
            "[I 2025-08-31 03:03:01,511] Trial 155 finished with value: 0.6030643755174676 and parameters: {'t0': 0.46719133156586706, 't1': 0.5585859014564153, 't2': 0.541661449170973}. Best is trial 105 with value: 0.61125204746448.\n",
            "[I 2025-08-31 03:03:01,521] Trial 156 finished with value: 0.6004961353971864 and parameters: {'t0': 0.5141809901535473, 't1': 0.5875302577509418, 't2': 0.5528110163775092}. Best is trial 105 with value: 0.61125204746448.\n",
            "[I 2025-08-31 03:03:01,529] Trial 157 finished with value: 0.5866149091654715 and parameters: {'t0': 0.569977662651404, 't1': 0.5767736881791573, 't2': 0.5848011016405273}. Best is trial 105 with value: 0.61125204746448.\n",
            "[I 2025-08-31 03:03:01,536] Trial 158 finished with value: 0.611867880047872 and parameters: {'t0': 0.5322258297650674, 't1': 0.5667943078726606, 't2': 0.5238688808993316}. Best is trial 158 with value: 0.611867880047872.\n",
            "[I 2025-08-31 03:03:01,543] Trial 159 finished with value: 0.6039650930973981 and parameters: {'t0': 0.45796647024473164, 't1': 0.5354893041273235, 't2': 0.49681698775679684}. Best is trial 158 with value: 0.611867880047872.\n",
            "[I 2025-08-31 03:03:01,550] Trial 160 finished with value: 0.6048678312890716 and parameters: {'t0': 0.5081547585737141, 't1': 0.5222637964996574, 't2': 0.5183946052734798}. Best is trial 158 with value: 0.611867880047872.\n",
            "[I 2025-08-31 03:03:01,555] Trial 161 finished with value: 0.611867880047872 and parameters: {'t0': 0.5315286936827817, 't1': 0.5653053379863292, 't2': 0.5303043509999655}. Best is trial 158 with value: 0.611867880047872.\n",
            "[I 2025-08-31 03:03:01,561] Trial 162 finished with value: 0.6091755064257638 and parameters: {'t0': 0.5244230954135484, 't1': 0.555871639047473, 't2': 0.5299103622126737}. Best is trial 158 with value: 0.611867880047872.\n",
            "[I 2025-08-31 03:03:01,568] Trial 163 finished with value: 0.6074069470092014 and parameters: {'t0': 0.4952868569640036, 't1': 0.5537072233738565, 't2': 0.5282280840337175}. Best is trial 158 with value: 0.611867880047872.\n",
            "[I 2025-08-31 03:03:01,573] Trial 164 finished with value: 0.6074069470092014 and parameters: {'t0': 0.49841671920677827, 't1': 0.5525433752909249, 't2': 0.5260302598391691}. Best is trial 158 with value: 0.611867880047872.\n",
            "[I 2025-08-31 03:03:01,579] Trial 165 finished with value: 0.6036996883828327 and parameters: {'t0': 0.495614702234601, 't1': 0.5430386539255343, 't2': 0.5145674089498025}. Best is trial 158 with value: 0.611867880047872.\n",
            "[I 2025-08-31 03:03:01,584] Trial 166 finished with value: 0.6044402952784327 and parameters: {'t0': 0.48077040591883463, 't1': 0.5562570776970905, 't2': 0.500795465657743}. Best is trial 158 with value: 0.611867880047872.\n",
            "[I 2025-08-31 03:03:01,590] Trial 167 finished with value: 0.6086450758042647 and parameters: {'t0': 0.5054576988629429, 't1': 0.5374549991159698, 't2': 0.5247786682470655}. Best is trial 158 with value: 0.611867880047872.\n",
            "[I 2025-08-31 03:03:01,596] Trial 168 finished with value: 0.6083246387021759 and parameters: {'t0': 0.5349593363784609, 't1': 0.5812142391068639, 't2': 0.524271643367145}. Best is trial 158 with value: 0.611867880047872.\n",
            "[I 2025-08-31 03:03:01,601] Trial 169 finished with value: 0.599844918810436 and parameters: {'t0': 0.5369710567820515, 't1': 0.5867424042901302, 't2': 0.4728322037061826}. Best is trial 158 with value: 0.611867880047872.\n",
            "[I 2025-08-31 03:03:01,607] Trial 170 finished with value: 0.5973368632329298 and parameters: {'t0': 0.5236642582395976, 't1': 0.578676262966628, 't2': 0.22363313859848033}. Best is trial 158 with value: 0.611867880047872.\n",
            "[I 2025-08-31 03:03:01,614] Trial 171 finished with value: 0.6085437392608158 and parameters: {'t0': 0.5106838217583168, 't1': 0.5643898152409759, 't2': 0.5246398167487117}. Best is trial 158 with value: 0.611867880047872.\n",
            "[I 2025-08-31 03:03:01,621] Trial 172 finished with value: 0.606911142279987 and parameters: {'t0': 0.5119681814525038, 't1': 0.5651735230320941, 't2': 0.5114534129793001}. Best is trial 158 with value: 0.611867880047872.\n",
            "[I 2025-08-31 03:03:01,628] Trial 173 finished with value: 0.5943264762461867 and parameters: {'t0': 0.5437653798706954, 't1': 0.598279275776235, 't2': 0.5259805780079784}. Best is trial 158 with value: 0.611867880047872.\n",
            "[I 2025-08-31 03:03:01,634] Trial 174 finished with value: 0.6036034412823827 and parameters: {'t0': 0.522502168755485, 't1': 0.5785211563714323, 't2': 0.48872355500247927}. Best is trial 158 with value: 0.611867880047872.\n",
            "[I 2025-08-31 03:03:01,640] Trial 175 finished with value: 0.6065070168358304 and parameters: {'t0': 0.47247672733893625, 't1': 0.5624196838338376, 't2': 0.5488290788460446}. Best is trial 158 with value: 0.611867880047872.\n",
            "[I 2025-08-31 03:03:01,647] Trial 176 finished with value: 0.6018703119000863 and parameters: {'t0': 0.5064560822431472, 't1': 0.019750890791202846, 't2': 0.5108656278978373}. Best is trial 158 with value: 0.611867880047872.\n",
            "[I 2025-08-31 03:03:01,652] Trial 177 finished with value: 0.6146054388302443 and parameters: {'t0': 0.5316590285922207, 't1': 0.5266510967355174, 't2': 0.5370496628602927}. Best is trial 177 with value: 0.6146054388302443.\n",
            "[I 2025-08-31 03:03:01,658] Trial 178 finished with value: 0.5993847136335101 and parameters: {'t0': 0.5492831858922181, 't1': 0.5228281481652022, 't2': 0.5430610693332739}. Best is trial 177 with value: 0.6146054388302443.\n",
            "[I 2025-08-31 03:03:01,664] Trial 179 finished with value: 0.6017493146436954 and parameters: {'t0': 0.5371747189029921, 't1': 0.49466769207282674, 't2': 0.5008194137510624}. Best is trial 177 with value: 0.6146054388302443.\n",
            "[I 2025-08-31 03:03:01,669] Trial 180 finished with value: 0.6123981164530062 and parameters: {'t0': 0.5266893443792573, 't1': 0.5347145223860693, 't2': 0.5340896826422264}. Best is trial 177 with value: 0.6146054388302443.\n",
            "[I 2025-08-31 03:03:01,674] Trial 181 finished with value: 0.6123981164530062 and parameters: {'t0': 0.5298670599543058, 't1': 0.5338106401331261, 't2': 0.5346883874972268}. Best is trial 177 with value: 0.6146054388302443.\n",
            "[I 2025-08-31 03:03:01,680] Trial 182 finished with value: 0.6055879821059966 and parameters: {'t0': 0.5276469471935918, 't1': 0.5186522869846747, 't2': 0.5158735868223931}. Best is trial 177 with value: 0.6146054388302443.\n",
            "[I 2025-08-31 03:03:01,687] Trial 183 finished with value: 0.6050363425274726 and parameters: {'t0': 0.552099409301652, 't1': 0.5330511759007265, 't2': 0.5517103446991263}. Best is trial 177 with value: 0.6146054388302443.\n",
            "[I 2025-08-31 03:03:01,693] Trial 184 finished with value: 0.600769234918866 and parameters: {'t0': 0.5157858234367768, 't1': 0.5088875461493887, 't2': 0.5399931677821945}. Best is trial 177 with value: 0.6146054388302443.\n",
            "[I 2025-08-31 03:03:01,699] Trial 185 finished with value: 0.609086392991013 and parameters: {'t0': 0.5307131446633536, 't1': 0.5404166830777011, 't2': 0.5362100734365383}. Best is trial 177 with value: 0.6146054388302443.\n",
            "[I 2025-08-31 03:03:01,705] Trial 186 finished with value: 0.604468360133741 and parameters: {'t0': 0.5346036873038206, 't1': 0.5370540216461428, 't2': 0.5597603013638612}. Best is trial 177 with value: 0.6146054388302443.\n",
            "[I 2025-08-31 03:03:01,711] Trial 187 finished with value: 0.5976590116775153 and parameters: {'t0': 0.5268047589776236, 't1': 0.5431059268733013, 't2': 0.3509847114960347}. Best is trial 177 with value: 0.6146054388302443.\n",
            "[I 2025-08-31 03:03:01,717] Trial 188 finished with value: 0.5985609960803367 and parameters: {'t0': 0.5821700668507993, 't1': 0.5293225024789349, 't2': 0.5405436841231995}. Best is trial 177 with value: 0.6146054388302443.\n",
            "[I 2025-08-31 03:03:01,723] Trial 189 finished with value: 0.5953721477613819 and parameters: {'t0': 0.5584300418781, 't1': 0.48009120377259823, 't2': 0.5163158023053406}. Best is trial 177 with value: 0.6146054388302443.\n",
            "[I 2025-08-31 03:03:01,728] Trial 190 finished with value: 0.6000685095163549 and parameters: {'t0': 0.5429355218059854, 't1': 0.5146202206040527, 't2': 0.5488100249974774}. Best is trial 177 with value: 0.6146054388302443.\n",
            "[I 2025-08-31 03:03:01,735] Trial 191 finished with value: 0.6088243982443036 and parameters: {'t0': 0.511741873779739, 't1': 0.5696825852217279, 't2': 0.5330847564080899}. Best is trial 177 with value: 0.6146054388302443.\n",
            "[I 2025-08-31 03:03:01,741] Trial 192 finished with value: 0.6105251989152919 and parameters: {'t0': 0.5128309198947703, 't1': 0.5752981116991418, 't2': 0.5342260271984611}. Best is trial 177 with value: 0.6146054388302443.\n",
            "[I 2025-08-31 03:03:01,747] Trial 193 finished with value: 0.6091111135352588 and parameters: {'t0': 0.5129550177311322, 't1': 0.5721832488582093, 't2': 0.5388744984241812}. Best is trial 177 with value: 0.6146054388302443.\n",
            "[I 2025-08-31 03:03:01,753] Trial 194 finished with value: 0.6062553413096892 and parameters: {'t0': 0.5179899708840723, 't1': 0.5896495828487535, 't2': 0.5340342894797774}. Best is trial 177 with value: 0.6146054388302443.\n",
            "[I 2025-08-31 03:03:01,759] Trial 195 finished with value: 0.6122931171150522 and parameters: {'t0': 0.5300513781111615, 't1': 0.5722385774232873, 't2': 0.5342491889133114}. Best is trial 177 with value: 0.6146054388302443.\n",
            "[I 2025-08-31 03:03:01,764] Trial 196 finished with value: 0.6053580630864928 and parameters: {'t0': 0.5323123305403593, 't1': 0.5809465725524462, 't2': 0.5035729531065892}. Best is trial 177 with value: 0.6146054388302443.\n",
            "[I 2025-08-31 03:03:01,770] Trial 197 finished with value: 0.606911142279987 and parameters: {'t0': 0.5118843794801952, 't1': 0.5671352941550344, 't2': 0.521107134489895}. Best is trial 177 with value: 0.6146054388302443.\n",
            "[I 2025-08-31 03:03:01,776] Trial 198 finished with value: 0.6045576112397152 and parameters: {'t0': 0.5440746699668475, 't1': 0.543056359914451, 't2': 0.5369852376058624}. Best is trial 177 with value: 0.6146054388302443.\n",
            "[I 2025-08-31 03:03:01,782] Trial 199 finished with value: 0.6086797016965494 and parameters: {'t0': 0.5269580424887966, 't1': 0.5636542050295532, 't2': 0.5121473318169464}. Best is trial 177 with value: 0.6146054388302443.\n"
          ]
        },
        {
          "name": "stdout",
          "output_type": "stream",
          "text": [
            "best 0.6146054388302443 {'t0': 0.5316590285922207, 't1': 0.5266510967355174, 't2': 0.5370496628602927}\n"
          ]
        }
      ],
      "source": [
        "import optuna\n",
        "from sklearn.metrics import f1_score\n",
        "\n",
        "def objective(trial, probs_val, y_val):\n",
        "    # per-class thresholds for 0..2\n",
        "    t0 = trial.suggest_float(\"t0\", 0.01, 0.6)\n",
        "    t1 = trial.suggest_float(\"t1\", 0.01, 0.6)\n",
        "    t2 = trial.suggest_float(\"t2\", 0.01, 0.6)\n",
        "\n",
        "    # temperature (if you provide logits instead of probs you can rescale first)\n",
        "    preds = []\n",
        "    for p in probs_val:\n",
        "        # use margin rule\n",
        "        top = p.argmax()\n",
        "        runner_up = np.argsort(p)[-2]\n",
        "        if top != 3 and p[top] >= [t0, t1, t2][top]:\n",
        "            preds.append(int(top))\n",
        "        else:\n",
        "            preds.append(3)\n",
        "    return f1_score(y_val, preds, average=\"macro\")\n",
        "\n",
        "study = optuna.create_study(direction=\"maximize\")\n",
        "study.optimize(lambda t: objective(t, probs, test_df['labels'].values), n_trials=200)\n",
        "print(\"best\", study.best_value, study.best_params)"
      ]
    },
    {
      "cell_type": "code",
      "execution_count": 32,
      "metadata": {},
      "outputs": [],
      "source": [
        "def predict_with_thresholds(\n",
        "    model,\n",
        "    tokenizer,\n",
        "    texts,\n",
        "    device='cuda',\n",
        "    ts=study.best_params.values(),\n",
        "    batch_size=32\n",
        "):\n",
        "    \"\"\"\n",
        "    Predict class labels with per-class thresholds and margin rule.\n",
        "    \n",
        "    Parameters:\n",
        "    - model: Hugging Face AutoModelForSequenceClassification\n",
        "    - tokenizer: corresponding tokenizer\n",
        "    - texts: list of strings\n",
        "    - device: 'cuda' or 'cpu'\n",
        "    - t0, t1, t2: thresholds for classes 0,1,2\n",
        "    - batch_size: number of samples per forward pass\n",
        "\n",
        "    Returns:\n",
        "    - preds: np.array of predicted class indices\n",
        "    \"\"\"\n",
        "    model.eval()\n",
        "    model.to(device)\n",
        "    thresholds = list(ts)\n",
        "    none_class = 3\n",
        "    preds = []\n",
        "\n",
        "    with torch.no_grad():\n",
        "        for i in range(0, len(texts), batch_size):\n",
        "            batch_texts = texts[i:i+batch_size]\n",
        "            enc = tokenizer(\n",
        "                batch_texts,\n",
        "                return_tensors='pt',\n",
        "                padding=True,\n",
        "                truncation=True,\n",
        "                max_length=256\n",
        "            ).to(device)\n",
        "            logits = model(**enc).logits  # [batch, num_classes]\n",
        "            probs = torch.softmax(logits, dim=1).cpu().numpy()\n",
        "\n",
        "            for p in probs:\n",
        "                # top-2 logic\n",
        "                top_idx = int(np.argmax(p))\n",
        "                top_prob = p[top_idx]\n",
        "\n",
        "                if top_idx != none_class and top_prob >= thresholds[top_idx]:\n",
        "                    preds.append(top_idx)\n",
        "                else:\n",
        "                    preds.append(none_class)\n",
        "\n",
        "    return np.array(preds)"
      ]
    },
    {
      "cell_type": "markdown",
      "metadata": {
        "id": "Se0SuC2TYa1n"
      },
      "source": [
        "Testing\n"
      ]
    },
    {
      "cell_type": "code",
      "execution_count": 48,
      "metadata": {},
      "outputs": [
        {
          "name": "stdout",
          "output_type": "stream",
          "text": [
            "[('come my shop cheap phone', 'Advertisement'),\n",
            " ('place suck never come back', 'Rant without visiting'),\n",
            " ('had coffee here yesterday nice staff good service', 'None'),\n",
            " ('place terrible should go yanhuis restaurant instead food way better',\n",
            "  'None'),\n",
            " ('from outside can tell food kinda suck so just left 1 star', 'None')]\n"
          ]
        }
      ],
      "source": [
        "from pprint import pprint\n",
        "# Testing with few test cases\n",
        "test_texts = [\n",
        "    \"come my shop cheap phone\",\n",
        "    \"place suck never come back\",\n",
        "    \"had coffee here yesterday nice staff good service\",\n",
        "    \"place terrible should go yanhuis restaurant instead food way better\",\n",
        "    \"from outside can tell food kinda suck so just left 1 star\"\n",
        "]\n",
        "preds = predict_with_thresholds(model, tokenizer, test_texts, device='cuda' if torch.cuda.is_available() else 'cpu')\n",
        "zipped = zip(test_texts, [inv_label_map[p] for p in preds])\n",
        "pprint(list(zipped))"
      ]
    },
    {
      "cell_type": "code",
      "execution_count": 49,
      "metadata": {
        "id": "MXfDiUU6YZz8"
      },
      "outputs": [
        {
          "name": "stdout",
          "output_type": "stream",
          "text": [
            "Review: come my shop cheap phone\n",
            "Predicted label: Advertisement, probabilities: [0.84301347 0.06525601 0.00726939 0.08446104]\n",
            "\n",
            "Review: place suck never come back\n",
            "Predicted label: Rant without visiting, probabilities: [0.0170664  0.16881512 0.68056786 0.1335506 ]\n",
            "\n",
            "Review: had coffee here yesterday nice staff good service\n",
            "Predicted label: None, probabilities: [0.04042015 0.10484689 0.00880323 0.8459298 ]\n",
            "\n",
            "Review: place terrible should go yanhuis restaurant instead food way better\n",
            "Predicted label: None, probabilities: [0.18432072 0.1197008  0.00792617 0.68805236]\n",
            "\n",
            "Review: from outside can tell food kinda suck so just left 1 star\n",
            "Predicted label: Rant without visiting, probabilities: [0.00744062 0.20828566 0.44916686 0.33510688]\n",
            "\n"
          ]
        }
      ],
      "source": [
        "# 1️⃣ Set device and move model there\n",
        "device = torch.device(\"cuda\" if torch.cuda.is_available() else \"cpu\")\n",
        "model.to(device)\n",
        "\n",
        "# 2️⃣ Tokenize test texts\n",
        "encodings = tokenizer(test_texts, truncation=True, padding=True, return_tensors=\"pt\")\n",
        "\n",
        "# 3️⃣ Move input tensors to the same device as the model\n",
        "encodings = {k: v.to(device) for k, v in encodings.items()}\n",
        "\n",
        "# 4️⃣ Run model\n",
        "outputs = model(**encodings)\n",
        "\n",
        "# 5️⃣ Move logits back to CPU for numpy\n",
        "probs = torch.softmax(outputs.logits, dim=1).detach().cpu().numpy()\n",
        "\n",
        "# 6️⃣ Map predictions to label names\n",
        "for text, prob in zip(test_texts, probs):\n",
        "    pred_label = list(label_map.keys())[prob.argmax()]\n",
        "    print(f\"Review: {text}\")\n",
        "    print(f\"Predicted label: {pred_label}, probabilities: {prob}\\n\")"
      ]
    }
  ],
  "metadata": {
    "accelerator": "GPU",
    "colab": {
      "gpuType": "T4",
      "provenance": []
    },
    "kernelspec": {
      "display_name": "Python 3",
      "language": "python",
      "name": "python3"
    },
    "language_info": {
      "codemirror_mode": {
        "name": "ipython",
        "version": 3
      },
      "file_extension": ".py",
      "mimetype": "text/x-python",
      "name": "python",
      "nbconvert_exporter": "python",
      "pygments_lexer": "ipython3",
      "version": "3.11.5"
    }
  },
  "nbformat": 4,
  "nbformat_minor": 0
}
